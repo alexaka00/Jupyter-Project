{
 "cells": [
  {
   "cell_type": "code",
   "execution_count": null,
   "id": "42c303a7-faba-4e08-b404-d899b6525725",
   "metadata": {
    "tags": []
   },
   "outputs": [],
   "source": [
    "import nltk\n",
    "nltk.download('punkt')\n",
    "nltk.download('averaged_perceptron_tagger')"
   ]
  },
  {
   "cell_type": "code",
   "execution_count": null,
   "id": "71e0e1b3-aab1-44e7-a8a8-a4b54e5700cc",
   "metadata": {
    "tags": []
   },
   "outputs": [],
   "source": [
    "from nltk.tokenize import RegexpTokenizer\n",
    "import re\n",
    "import requests\n",
    "from nltk.probability import FreqDist\n",
    "from bs4 import BeautifulSoup\n",
    "from nltk.text import Text\n",
    "import matplotlib.pyplot as plt"
   ]
  },
  {
   "cell_type": "markdown",
   "id": "c6a1adc9-bf5a-4943-8a55-e50d9beecd1e",
   "metadata": {},
   "source": [
    "# ***Linguistic analysis of the content on the chosen website***"
   ]
  },
  {
   "cell_type": "markdown",
   "id": "06088df9-31ab-423a-bc8f-2c1d6c20ee5a",
   "metadata": {},
   "source": [
    "### ***Aleksandra Kaczanowska***"
   ]
  },
  {
   "cell_type": "markdown",
   "id": "64deed66-f7ed-468d-8f24-f11453879991",
   "metadata": {},
   "source": [
    "## Paste the website link below:"
   ]
  },
  {
   "cell_type": "code",
   "execution_count": null,
   "id": "439c14f7-923c-4f08-9bc4-115a69255b69",
   "metadata": {
    "tags": []
   },
   "outputs": [],
   "source": [
    "input9 = input()"
   ]
  },
  {
   "cell_type": "code",
   "execution_count": null,
   "id": "d898bb88-1c05-49ed-9ef0-dc2b7ba2b903",
   "metadata": {
    "tags": []
   },
   "outputs": [],
   "source": [
    "page = requests.get(input9)\n",
    "soup = BeautifulSoup(page.content, 'html.parser')\n",
    "text = soup.get_text()"
   ]
  },
  {
   "cell_type": "code",
   "execution_count": null,
   "id": "e30865d9-eecd-4ea3-ab8a-0a3db505553e",
   "metadata": {},
   "outputs": [],
   "source": [
    "tokenizer = RegexpTokenizer('\\w+')\n",
    "tokens = tokenizer.tokenize(text)\n",
    "tagged = nltk.pos_tag(tokens)\n",
    "textlist = Text(tokens)\n",
    "fdist1 = FreqDist(tokens)"
   ]
  },
  {
   "cell_type": "markdown",
   "id": "4c42b37f-4879-4783-b222-af8e6ac7e4f7",
   "metadata": {},
   "source": [
    "## Would you like to see all the tokens? If yes, write 'yes':)"
   ]
  },
  {
   "cell_type": "code",
   "execution_count": null,
   "id": "b1df22cf-2cf0-4502-9476-e8524df16b7b",
   "metadata": {},
   "outputs": [],
   "source": [
    "input10 = str(input())\n",
    "if input10=='yes' or input10=='YES' or input10=='Yes':\n",
    "    print(tokens)\n",
    "else:\n",
    "    print(\"Invalid input. Try again!\")"
   ]
  },
  {
   "cell_type": "markdown",
   "id": "4a394a7e-87c6-4c7f-b19d-ac35d82856ef",
   "metadata": {},
   "source": [
    "## You can also display them in an alphabetical order (write 'yes')\n",
    "### Starting from numbers, A-Z and then a-z"
   ]
  },
  {
   "cell_type": "code",
   "execution_count": null,
   "id": "6e48a02b-f9a6-4992-9ac5-d8f2b753c737",
   "metadata": {},
   "outputs": [],
   "source": [
    "input11 = str(input())\n",
    "if input11=='yes' or input11=='YES' or input11=='Yes':\n",
    "    print(sorted(set(tokens)))\n",
    "else:\n",
    "    print(\"Invalid input. Try again!\")"
   ]
  },
  {
   "cell_type": "markdown",
   "id": "12fdbb22-77c4-496d-aed8-9bf3762f9e26",
   "metadata": {},
   "source": [
    "## Quantity of tokens on the website:"
   ]
  },
  {
   "cell_type": "code",
   "execution_count": null,
   "id": "236bcea1-9ee2-4b80-b5b3-09f3abe9380d",
   "metadata": {},
   "outputs": [],
   "source": [
    "len(text)"
   ]
  },
  {
   "cell_type": "markdown",
   "id": "0a36ba89-c7fd-45dc-8efa-715a166c0a8b",
   "metadata": {},
   "source": [
    "## Count the occurrence of the chosen word:\n",
    "### Write a word below:"
   ]
  },
  {
   "cell_type": "code",
   "execution_count": null,
   "id": "6d316790-5bfd-4796-9bf4-21478a745a30",
   "metadata": {},
   "outputs": [],
   "source": [
    "input4 = str(input())"
   ]
  },
  {
   "cell_type": "code",
   "execution_count": null,
   "id": "dfe531b3-3ddb-42ff-922a-ddf9080aedcf",
   "metadata": {},
   "outputs": [],
   "source": [
    "text.count(input4)"
   ]
  },
  {
   "cell_type": "markdown",
   "id": "b979bfa0-f170-4d20-86bf-0b10dad29bf5",
   "metadata": {},
   "source": [
    "## And the percentage of the text that is taken up by this word:"
   ]
  },
  {
   "cell_type": "code",
   "execution_count": null,
   "id": "a1e047e7-458b-4104-b11d-7eaff8e95336",
   "metadata": {},
   "outputs": [],
   "source": [
    "100 * text.count(input4) / len(text)"
   ]
  },
  {
   "cell_type": "markdown",
   "id": "5edcf9a3-c81e-417f-89f6-c596675b3f4a",
   "metadata": {},
   "source": [
    "## See [number] the most frequent tokens (with a chart)\n",
    "### Write a number below:"
   ]
  },
  {
   "cell_type": "code",
   "execution_count": null,
   "id": "98b81369-dc36-4e53-9ae2-ccdd2033c772",
   "metadata": {},
   "outputs": [],
   "source": [
    "input2 = int(input())"
   ]
  },
  {
   "cell_type": "code",
   "execution_count": null,
   "id": "af53d171-f546-4a2f-a811-88590388914a",
   "metadata": {},
   "outputs": [],
   "source": [
    "fdist1.most_common(input2)"
   ]
  },
  {
   "cell_type": "code",
   "execution_count": null,
   "id": "3c37decf-c4a8-402e-97b9-c62c84ec6efd",
   "metadata": {},
   "outputs": [],
   "source": [
    "fdist1.plot(input2, cumulative=True)"
   ]
  },
  {
   "cell_type": "markdown",
   "id": "823c6e6b-1892-49f9-a338-f90a72979ac5",
   "metadata": {},
   "source": [
    "## Concordance\n",
    "### Write the word of which you would like to check the concordance:"
   ]
  },
  {
   "cell_type": "code",
   "execution_count": null,
   "id": "422517d5-97b9-4237-91bc-617cb9620fc7",
   "metadata": {},
   "outputs": [],
   "source": [
    "input3 = input()"
   ]
  },
  {
   "cell_type": "code",
   "execution_count": null,
   "id": "609b7962-b141-46ff-9daf-28758a059292",
   "metadata": {},
   "outputs": [],
   "source": [
    "textlist.concordance(input3)"
   ]
  },
  {
   "cell_type": "markdown",
   "id": "ba1b4489-fbcc-4516-8e9c-d265b4c318e9",
   "metadata": {},
   "source": [
    "## If you would like to see the tags of all the tokens write 'yes' below:"
   ]
  },
  {
   "cell_type": "code",
   "execution_count": null,
   "id": "eb05052c-e505-4e2a-8f9a-ef4f252d3efd",
   "metadata": {},
   "outputs": [],
   "source": [
    "inp3 = str(input())"
   ]
  },
  {
   "cell_type": "code",
   "execution_count": null,
   "id": "4af84167-5dc2-4370-95d7-4760768f7522",
   "metadata": {},
   "outputs": [],
   "source": [
    "if inp3 == 'yes' or inp3 == 'Yes' or inp3 == 'YES':\n",
    "    print(tagged)\n",
    "else:\n",
    "    print(\"Invalid input. Try again!\")"
   ]
  },
  {
   "cell_type": "markdown",
   "id": "94557727-b54e-4f9f-9669-73db645075f6",
   "metadata": {},
   "source": [
    "## Or you can choose the range of tokens you would like to see the tags of:"
   ]
  },
  {
   "cell_type": "code",
   "execution_count": null,
   "id": "68b42a5b-671f-44f5-9d0f-52867d472b7d",
   "metadata": {},
   "outputs": [],
   "source": [
    "inp1 = int(input('From'))\n",
    "inp2 = int(input('To'))"
   ]
  },
  {
   "cell_type": "code",
   "execution_count": null,
   "id": "80719bb9-cafc-4997-aea3-11a4beaa3d59",
   "metadata": {},
   "outputs": [],
   "source": [
    "tagged[inp1:inp2]"
   ]
  },
  {
   "cell_type": "markdown",
   "id": "a02c85c5-4f0b-4adf-a4ea-135d9a42023a",
   "metadata": {},
   "source": [
    "# Thank you for the usage"
   ]
  },
  {
   "cell_type": "markdown",
   "id": "8c6bc387-6e72-4f6a-9b52-3ea12053849e",
   "metadata": {},
   "source": [
    "<img src=\"https://cdn.iconscout.com/icon/free/png-256/smile-2689437-2232238.png\">"
   ]
  }
 ],
 "metadata": {
  "kernelspec": {
   "display_name": "Python 3",
   "language": "python",
   "name": "python3"
  },
  "language_info": {
   "codemirror_mode": {
    "name": "ipython",
    "version": 3
   },
   "file_extension": ".py",
   "mimetype": "text/x-python",
   "name": "python",
   "nbconvert_exporter": "python",
   "pygments_lexer": "ipython3",
   "version": "3.8.6"
  }
 },
 "nbformat": 4,
 "nbformat_minor": 5
}
